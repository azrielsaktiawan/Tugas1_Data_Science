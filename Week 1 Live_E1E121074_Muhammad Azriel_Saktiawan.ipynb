{
 "cells": [
  {
   "cell_type": "markdown",
   "id": "3f4b663c",
   "metadata": {},
   "source": [
    "# Week 1 Review Exercises\n"
   ]
  },
  {
   "cell_type": "markdown",
   "id": "ada58c46",
   "metadata": {},
   "source": [
    "Q1. Data Types\n",
    "\n",
    "What is the data type of the variable `pop`?"
   ]
  },
  {
   "cell_type": "code",
   "execution_count": 3,
   "id": "563c66fd",
   "metadata": {},
   "outputs": [],
   "source": [
    "pop = 5.8\n"
   ]
  },
  {
   "cell_type": "code",
   "execution_count": 4,
   "id": "caf77385",
   "metadata": {},
   "outputs": [
    {
     "name": "stdout",
     "output_type": "stream",
     "text": [
      "tipe data pop adalah: <class 'float'>\n"
     ]
    }
   ],
   "source": [
    "tipe_data_pop = type(pop)\n",
    "print(\"tipe data pop adalah:\", tipe_data_pop)"
   ]
  },
  {
   "cell_type": "markdown",
   "id": "b19b8600",
   "metadata": {},
   "source": [
    "Q2. Which of the following is a valid variable name of of population below 15 years old?\n"
   ]
  },
  {
   "cell_type": "code",
   "execution_count": 5,
   "id": "fa3e5e24",
   "metadata": {},
   "outputs": [],
   "source": [
    "# which line won't give an error? Comment out the ones that do!\n",
    "_15_below_pop = 12.33"
   ]
  },
  {
   "cell_type": "markdown",
   "id": "6227288b",
   "metadata": {},
   "source": [
    "Q3. What will be stored in `result`?"
   ]
  },
  {
   "cell_type": "code",
   "execution_count": 6,
   "id": "5e4cfdfd",
   "metadata": {},
   "outputs": [
    {
     "name": "stdout",
     "output_type": "stream",
     "text": [
      "Hasil dari 3 + 4 ** 2 - (5//2) adalah =  17\n"
     ]
    }
   ],
   "source": [
    "result = 3 + 4 ** 2 - (5 // 2)\n",
    "print(\"Hasil dari 3 + 4 ** 2 - (5//2) adalah = \",result)"
   ]
  },
  {
   "cell_type": "markdown",
   "id": "4b2b1ba6",
   "metadata": {},
   "source": [
    "Q4. If Singapore has an estimated population of 5.85 million and the land area is 700 square kilometers, what is the population density (number of people per KM)? \n"
   ]
  },
  {
   "cell_type": "code",
   "execution_count": 7,
   "id": "3b3dd8d9",
   "metadata": {},
   "outputs": [
    {
     "name": "stdout",
     "output_type": "stream",
     "text": [
      "Terdapat 8357.14 orang per km2 di Singapura.\n"
     ]
    }
   ],
   "source": [
    "# Estimated total Population of Singapore, in millions\n",
    "total_pop_millions = 5.85\n",
    "\n",
    "# Total land area, in KM\n",
    "land_area = 700\n",
    "\n",
    "# How many people are there per KM?\n",
    "people_per_km = (total_pop_millions * 1_000_000) / land_area\n",
    "print(f\"Terdapat {people_per_km:.2f} orang per km2 di Singapura.\")\n"
   ]
  },
  {
   "cell_type": "markdown",
   "id": "8a8b4f48",
   "metadata": {},
   "source": [
    "Q5. Write a function called `pop_density()` that receives two arguments:\n",
    "1. the population, recorded in millions, `population_mil`\n",
    "2. the land area, in square kilometres, `land_area_sqkm`\n",
    "\n",
    "The function should calculate and return the population density. \n"
   ]
  },
  {
   "cell_type": "code",
   "execution_count": 8,
   "id": "cec3ad43",
   "metadata": {},
   "outputs": [],
   "source": [
    "def pop_density(population_mil, land_area_sqkm):\n",
    "    population_density = (population_mil * 1_000_000) / land_area_sqkm\n",
    "    return population_density"
   ]
  },
  {
   "cell_type": "markdown",
   "id": "9c7711c8",
   "metadata": {},
   "source": [
    "Q6. Call the function you have written to calculate and display the population density of Hong Kong: 7.50 million people in a land area of 1050 km squared \n"
   ]
  },
  {
   "cell_type": "code",
   "execution_count": 9,
   "id": "a2b27625",
   "metadata": {},
   "outputs": [
    {
     "name": "stdout",
     "output_type": "stream",
     "text": [
      "Kepadatan penduduk hongkong adalah 7142.86 orang per kilometer persegi.\n"
     ]
    }
   ],
   "source": [
    "population_mil_hk = 7.50  \n",
    "land_area_sqkm_hk = 1050  \n",
    "\n",
    "density_hk = pop_density(population_mil_hk, land_area_sqkm_hk)\n",
    "print(f\"Kepadatan penduduk hongkong adalah {density_hk:.2f} orang per kilometer persegi.\")"
   ]
  },
  {
   "cell_type": "markdown",
   "id": "43cbdd91",
   "metadata": {},
   "source": [
    "Q7. Using the `pop_density()` function, calculate the population density of Singapore and then use comparison operators to compare the population densities of Singapore and Hong Kong.\n",
    "\n",
    "Singapore's population: 5.85 million\n",
    "Singapore's land area: 700 sq km\n",
    "\n",
    "(Data From [Worldometers](http://worldometers.info))\n"
   ]
  },
  {
   "cell_type": "code",
   "execution_count": 10,
   "id": "626d47c8",
   "metadata": {},
   "outputs": [
    {
     "name": "stdout",
     "output_type": "stream",
     "text": [
      "Kepadatan penduduk singapura adalah 8357.14 orang per kilometer persegi.\n",
      "Kepadatan penduduk hongkong adalah 7142.86 orang per kilometer persegi.\n",
      "Kepadatan penduduk singapura lebih tinggi daripada Hong Kong.\n"
     ]
    }
   ],
   "source": [
    "# use the function\n",
    "population_mil_sg = 5.85  \n",
    "land_area_sqkm_sg = 700  \n",
    "\n",
    "density_sg = pop_density(population_mil_sg, land_area_sqkm_sg)\n",
    "print(f\"Kepadatan penduduk singapura adalah {density_sg:.2f} orang per kilometer persegi.\")\n",
    "\n",
    "population_mil_hk = 7.50  \n",
    "land_area_sqkm_hk = 1050  \n",
    "\n",
    "density_hk = pop_density(population_mil_hk, land_area_sqkm_hk)\n",
    "print(f\"Kepadatan penduduk hongkong adalah {density_hk:.2f} orang per kilometer persegi.\")\n",
    "\n",
    "# compare hk vs sg population density \n",
    "if density_sg > density_hk:\n",
    "    print(\"Kepadatan penduduk singapura lebih tinggi daripada Hong Kong.\")\n",
    "elif density_sg < density_hk:\n",
    "    print(\"Kepadatan penduduk hongkong lebih tinggi daripada Singapura.\")\n",
    "else:\n",
    "    print(\"Kepadatan penduduk singapura sama dengan hongkong.\")\n",
    "\n"
   ]
  },
  {
   "cell_type": "markdown",
   "id": "cc1768c5",
   "metadata": {},
   "source": [
    "Q8. Let's add another area to compare: Macao's population is 0.65 million in a land area of 30 sq km. Find out whether Singapore's population density is higher than BOTH Hong Kong and Macao."
   ]
  },
  {
   "cell_type": "code",
   "execution_count": 11,
   "id": "55aeec5c",
   "metadata": {},
   "outputs": [
    {
     "name": "stdout",
     "output_type": "stream",
     "text": [
      "Kepadatan penduduk macau adalah 21666.67 orang perkilometer persegi\n",
      "Kepadatan penduduk singapura tidak lebih tinggi daripada hongkong dan macau.\n"
     ]
    }
   ],
   "source": [
    "# Calculate Macao's density (use the function!)\n",
    "population_mil_mac = 0.65\n",
    "land_area_sqkm_mac = 30\n",
    "\n",
    "density_mac = pop_density(population_mil_mac, land_area_sqkm_mac)\n",
    "print(f\"Kepadatan penduduk macau adalah {density_mac:.2f} orang perkilometer persegi\")\n",
    "# Singapore's population density is higher than both Hong Kong AND Macao\n",
    "if density_sg > density_hk and density_sg > density_mac:\n",
    "    print(\"Kepadatan penduduk singapura lebih tinggi daripada hongkong dan macau.\")\n",
    "else:\n",
    "    print(\"Kepadatan penduduk singapura tidak lebih tinggi daripada hongkong dan macau.\")\n"
   ]
  },
  {
   "cell_type": "markdown",
   "id": "66b284ff",
   "metadata": {},
   "source": [
    "Q9. Write a function called compare_density() that receives two arguments representing the population densities of two areas. The function will compare the two values and print one of the following strings:\n",
    "- “Area 1 has higher density”\n",
    "- “Area 2 has higher density”\n",
    "- “Both areas have the same density”"
   ]
  },
  {
   "cell_type": "code",
   "execution_count": 12,
   "id": "63351d63",
   "metadata": {},
   "outputs": [],
   "source": [
    "# Write the function\n",
    "def compare_density(density_sg, density_hk):\n",
    "    if density_sg > density_hk:\n",
    "        print(\"singapura memiliki kepadatan penduduk yang lebih tinggi\")\n",
    "    elif density_sg < density_hk:\n",
    "        print(\"hongkong memiliki kepadatan penduduk yang lebih tinggi\")\n",
    "    else:\n",
    "        print(\"Kedua area memiliki kepadatan penduduk yang sama\")\n",
    "    "
   ]
  },
  {
   "cell_type": "markdown",
   "id": "0e7c4ab1",
   "metadata": {},
   "source": [
    "Then we can test the function by passing the values of `sg_density` and `hk_density` as arguments."
   ]
  },
  {
   "cell_type": "code",
   "execution_count": 13,
   "id": "6f1a4362",
   "metadata": {},
   "outputs": [
    {
     "name": "stdout",
     "output_type": "stream",
     "text": [
      "singapura memiliki kepadatan penduduk yang lebih tinggi\n"
     ]
    }
   ],
   "source": [
    "density_sg = 8357.14  \n",
    "density_hk = 7142.86  \n",
    "\n",
    "compare_density(density_sg, density_hk)"
   ]
  },
  {
   "cell_type": "markdown",
   "id": "49fae04b",
   "metadata": {},
   "source": [
    "Q10. What will be the result of the following loop?\n",
    "\n",
    "```\n",
    "for year in range(2022, 2031, 2):\n",
    "    print(year)\n",
    "```"
   ]
  },
  {
   "cell_type": "code",
   "execution_count": 14,
   "id": "48ab8047",
   "metadata": {},
   "outputs": [
    {
     "name": "stdout",
     "output_type": "stream",
     "text": [
      "2022\n",
      "2024\n",
      "2026\n",
      "2028\n",
      "2030\n"
     ]
    }
   ],
   "source": [
    "# Type in the code for the loop given above and execute to check your answer\n",
    "for year in range(2022, 2031, 2):\n",
    "    print(year)"
   ]
  },
  {
   "cell_type": "markdown",
   "id": "359280f1",
   "metadata": {},
   "source": [
    "Q.11 Write a function projected_population() that receives three arguments:\n",
    "- Current population, in millions\n",
    "- Growth rate\n",
    "- Current year\n"
   ]
  },
  {
   "cell_type": "markdown",
   "id": "43b00110",
   "metadata": {},
   "source": [
    "The function should:\n",
    "- set the projected population to the current population\n",
    "- set the projected year to the current year\n",
    "- calculate the difference between the projected population and current population\n",
    "\n",
    "while the difference is between -1 and 1:\n",
    "1. print the projected year and the projected population\n",
    "2. calculate the projected population = projected population + projected population * growth rate / 100\n",
    "3. update the projected year \n",
    "4. recalculate the difference between the projected propulation and current population"
   ]
  },
  {
   "cell_type": "code",
   "execution_count": 15,
   "id": "8e62f54e",
   "metadata": {},
   "outputs": [],
   "source": [
    "def projected_population(current_pop, growth_rate, current_year):\n",
    "    # complete the function according to the guide\n",
    "    projected_population = current_pop\n",
    "    projected_year = current_year\n",
    "    \n",
    "    while -1 < abs(projected_population - current_pop) < 1:\n",
    "        print(f\"Tahun {projected_year}: Proyeksi Populasi {projected_population:.2f} juta\")\n",
    "        projected_population += projected_population * (growth_rate / 100)\n",
    "        projected_year += 1\n",
    "    \n",
    "\n"
   ]
  },
  {
   "cell_type": "code",
   "execution_count": 16,
   "id": "35c3f670",
   "metadata": {},
   "outputs": [
    {
     "name": "stdout",
     "output_type": "stream",
     "text": [
      "Thailand's population growth\n",
      "Tahun 2020: Proyeksi Populasi 69.80 juta\n",
      "Tahun 2021: Proyeksi Populasi 70.01 juta\n",
      "Tahun 2022: Proyeksi Populasi 70.22 juta\n",
      "Tahun 2023: Proyeksi Populasi 70.43 juta\n",
      "Tahun 2024: Proyeksi Populasi 70.64 juta\n"
     ]
    }
   ],
   "source": [
    "# testing with Thailand\n",
    "print(\"Thailand's population growth\")\n",
    "projected_population(current_pop = 69.8, growth_rate = 0.3, current_year = 2020)"
   ]
  },
  {
   "cell_type": "markdown",
   "id": "09df059d",
   "metadata": {},
   "source": [
    "Q.12 Write a function called `string_info()` which takes in a string argument and returns four values:\n",
    "- the first 3 characters\n",
    "- last 3 characters\n",
    "- the number of characters in the string\n",
    "- the string with each word capitalized"
   ]
  },
  {
   "cell_type": "code",
   "execution_count": 17,
   "id": "254d3e0c",
   "metadata": {},
   "outputs": [],
   "source": [
    "def string_info(word): \n",
    "    # complete the function\n",
    "    first_three = word[:3]\n",
    "    last_three = word[-3:]\n",
    "    num_characters = len(word)\n",
    "    capitalized_word = \" \".join([w.capitalize() for w in word.split()])\n",
    "    return first_three, last_three, num_characters, capitalized_word"
   ]
  },
  {
   "cell_type": "code",
   "execution_count": 18,
   "id": "5858639b",
   "metadata": {},
   "outputs": [],
   "source": [
    "#calling the function\n",
    "start, end, num, title = string_info(\"data science\")\n"
   ]
  },
  {
   "cell_type": "code",
   "execution_count": 19,
   "id": "f286a42c",
   "metadata": {},
   "outputs": [
    {
     "name": "stdout",
     "output_type": "stream",
     "text": [
      "First 3 characters: dat\n",
      "Last 3 characters: nce\n",
      "Number of characters: 12\n",
      "Capitalized string: Data Science\n"
     ]
    }
   ],
   "source": [
    "# print what's returned\n",
    "print(\"First 3 characters:\", start)\n",
    "print(\"Last 3 characters:\", end)\n",
    "print(\"Number of characters:\", num)\n",
    "print(\"Capitalized string:\", title)"
   ]
  },
  {
   "cell_type": "markdown",
   "id": "f33e1677",
   "metadata": {},
   "source": [
    "Nama : Muhammad Azriel Saktiawan \n",
    "NIM  : E1E121074\n",
    "\n",
    "\n",
    "# Congratulations! \n",
    "\n",
    "You have reached the end of this notebook! Hope you have been able to practice and review the fundamental concepts in Python coding and we will do more next week!"
   ]
  }
 ],
 "metadata": {
  "kernelspec": {
   "display_name": "Python 3 (ipykernel)",
   "language": "python",
   "name": "python3"
  },
  "language_info": {
   "codemirror_mode": {
    "name": "ipython",
    "version": 3
   },
   "file_extension": ".py",
   "mimetype": "text/x-python",
   "name": "python",
   "nbconvert_exporter": "python",
   "pygments_lexer": "ipython3",
   "version": "3.11.4"
  }
 },
 "nbformat": 4,
 "nbformat_minor": 5
}
